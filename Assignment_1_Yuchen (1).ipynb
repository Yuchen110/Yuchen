{
  "cells": [
    {
      "cell_type": "markdown",
      "metadata": {
        "id": "WI820A_Bp_NH"
      },
      "source": [
        "# Assignment 1\n",
        "\n",
        "\n",
        "Instructions: This problem set should be done individually.\n",
        "\n",
        "Answer each question in the designated space below.\n",
        "\n",
        "After you are done, save, download, and upload in blackboard under Assignment 1."
      ]
    },
    {
      "cell_type": "markdown",
      "metadata": {
        "id": "wVAN3J3Vp_NJ"
      },
      "source": [
        "# Write your name and simon email\n",
        "\n",
        "Please write names below\n",
        "\n",
        "* [Name]: Yuchen Zhou\n",
        "* [email]: yzhou110@simon.rochester.edu\n",
        "\n",
        "NOTE: \n",
        "\n",
        "1. You can edit this cell by double clicking in it and hitting `Ctrl`+`enter` for it to render.\n",
        "\n",
        "2. This is Markdown cell, where we type text. For more info on how to do formatting on markdown please see here https://ingeh.medium.com/markdown-for-jupyter-notebooks-cheatsheet-386c05aeebed, but you don't need to.\n"
      ]
    },
    {
      "cell_type": "markdown",
      "metadata": {
        "id": "cj7VF2dx6RR1"
      },
      "source": [
        "# Discussion Forum Assignment\n",
        "\n",
        "Due to assigment: \"Quant investing from the trenches\" in the discussion forum\n",
        "\n",
        "https://edstem.org/us/courses/30665/discussion/1972479\n"
      ]
    },
    {
      "cell_type": "markdown",
      "metadata": {
        "id": "2WwIlaMF6RR2"
      },
      "source": [
        "# Part A: Basic Commands"
      ]
    },
    {
      "cell_type": "markdown",
      "metadata": {
        "id": "Ed21MW4i6RR2"
      },
      "source": [
        "**Exercise 1**\n",
        "\n",
        "In the first cell, try `y.append(z)`.\n",
        "\n",
        "In the second cell try `y.extend(z)`.\n",
        "\n",
        "Explain the behavior.\n",
        "\n",
        "HINT: When you are trying to explain, use `y.append?` and `y.extend?` to\n",
        "see a description of what these methods are supposed to do."
      ]
    },
    {
      "cell_type": "code",
      "execution_count": 2,
      "metadata": {
        "hide-output": true,
        "id": "EXTvwM3G6RR3",
        "outputId": "1d90a118-cf52-43c9-8ac4-01760896c55b",
        "colab": {
          "base_uri": "https://localhost:8080/"
        }
      },
      "outputs": [
        {
          "output_type": "stream",
          "name": "stdout",
          "text": [
            "['a', 'b', 'c', [1, 2, 3]]\n"
          ]
        }
      ],
      "source": [
        "y = [\"a\", \"b\", \"c\"]\n",
        "z = [1, 2, 3]\n",
        "# your code here\n",
        "y.append(z)\n",
        "print(y)"
      ]
    },
    {
      "cell_type": "code",
      "execution_count": 3,
      "metadata": {
        "hide-output": true,
        "id": "N9-2OI_u6RR4",
        "outputId": "1bc8ed3b-f8f8-440d-f5b0-278f85661fcd",
        "colab": {
          "base_uri": "https://localhost:8080/"
        }
      },
      "outputs": [
        {
          "output_type": "stream",
          "name": "stdout",
          "text": [
            "['a', 'b', 'c', 1, 2, 3]\n"
          ]
        }
      ],
      "source": [
        "y = [\"a\", \"b\", \"c\"]\n",
        "z = [1, 2, 3]\n",
        "# your code here\n",
        "y.extend(z)\n",
        "print(y)"
      ]
    },
    {
      "cell_type": "markdown",
      "metadata": {
        "id": "gbvuHdix6RR5"
      },
      "source": [
        "**Exercise 2**\n",
        "\n",
        "Experiment with two versions of the `range` function. Explain what d is and how you get the second option to implement the first by choosing a particular d."
      ]
    },
    {
      "cell_type": "code",
      "execution_count": 18,
      "metadata": {
        "hide-output": true,
        "id": "sq-OyVMX6RR6"
      },
      "outputs": [],
      "source": [
        "# try list(range(a, N)) -- you pick `a` and `N`\n",
        "print(list(range(a,N)))"
      ]
    },
    {
      "cell_type": "code",
      "execution_count": null,
      "metadata": {
        "hide-output": true,
        "id": "L97zBDsQ6RR6"
      },
      "outputs": [],
      "source": [
        "# try list(range(a, N, d)) -- you pick `a`, `N`, and `d`"
      ]
    },
    {
      "cell_type": "markdown",
      "source": [
        "d is the number that add to a every time until approach N.\n",
        "When d =1, the second code can implement equals to the first one."
      ],
      "metadata": {
        "id": "Y_Uumn4Bzt_i"
      }
    },
    {
      "cell_type": "markdown",
      "metadata": {
        "id": "K7QpGoTz6RR7"
      },
      "source": [
        "**Exercise 3**\n",
        "\n",
        "Use Jupyter's help facilities to learn how to use the `pop` method to\n",
        "remove the number 10.48 from the list gdp_data."
      ]
    },
    {
      "cell_type": "code",
      "execution_count": 21,
      "metadata": {
        "hide-output": false,
        "id": "7xtT30dC6RR8",
        "colab": {
          "base_uri": "https://localhost:8080/"
        },
        "outputId": "c1fe1f9d-9c4b-4da9-f887-8af5b9ccaca1"
      },
      "outputs": [
        {
          "output_type": "stream",
          "name": "stdout",
          "text": [
            "[9.607, 11.06]\n"
          ]
        }
      ],
      "source": [
        "gdp_data = [9.607, 10.48, 11.06]\n",
        "# your code here\n",
        "gdp_data.pop(1)\n",
        "print(gdp_data)"
      ]
    },
    {
      "cell_type": "markdown",
      "metadata": {
        "id": "8wseVMsj6RR8"
      },
      "source": [
        "**Exercise 4**\n",
        "\n",
        "Explain what happens to the value you popped.\n",
        "\n",
        "Experiment with calling `pop` twice."
      ]
    },
    {
      "cell_type": "code",
      "execution_count": 22,
      "metadata": {
        "hide-output": false,
        "id": "I4x9Htks6RR8",
        "colab": {
          "base_uri": "https://localhost:8080/"
        },
        "outputId": "0548a80d-9184-414d-eab2-965e36c6d419"
      },
      "outputs": [
        {
          "output_type": "stream",
          "name": "stdout",
          "text": [
            "[9.607]\n"
          ]
        }
      ],
      "source": [
        "# your code here\n",
        "gdp_data.pop(1)\n",
        "print(gdp_data)\n"
      ]
    },
    {
      "cell_type": "markdown",
      "source": [
        "After pop, the second number in the list has been removed and after run pop twice, the second number after the first drop has been dropped again. So after run pop twice, there is only one number in the list."
      ],
      "metadata": {
        "id": "CJcWrTbE1pLw"
      }
    },
    {
      "cell_type": "markdown",
      "metadata": {
        "id": "2w03yS_26RR9"
      },
      "source": [
        "**Exercise 5**\n",
        "\n",
        "Run the following two variations on the code with only a single difference in the indentation.\n",
        "\n",
        "After you do that, modify the value of `x` to print `3` in the first cell and then `2, 3` in the second cell instead.\n",
        "\n",
        "Create a cell below to explain what is going on."
      ]
    },
    {
      "cell_type": "code",
      "execution_count": 6,
      "metadata": {
        "hide-output": false,
        "id": "eMpej9_06RR9",
        "colab": {
          "base_uri": "https://localhost:8080/"
        },
        "outputId": "2290cde8-f05b-4488-8f44-10d875f44c17"
      },
      "outputs": [
        {
          "output_type": "stream",
          "name": "stdout",
          "text": [
            "3\n"
          ]
        }
      ],
      "source": [
        "x = -1\n",
        "\n",
        "if x > 0:\n",
        "    print(\"1\")\n",
        "    print(\"2\")\n",
        "print(\"3\")"
      ]
    },
    {
      "cell_type": "code",
      "execution_count": 7,
      "metadata": {
        "hide-output": false,
        "id": "M_0FVGiQ6RR-",
        "colab": {
          "base_uri": "https://localhost:8080/"
        },
        "outputId": "25dde8a5-4a77-46a1-8120-9a7bb3a5031d"
      },
      "outputs": [
        {
          "output_type": "stream",
          "name": "stdout",
          "text": [
            "2\n",
            "3\n"
          ]
        }
      ],
      "source": [
        "x = -1\n",
        "\n",
        "if x > 0:\n",
        "    print(\"1\")\n",
        "print(\"2\") # changed the indentation\n",
        "print(\"3\")"
      ]
    },
    {
      "cell_type": "markdown",
      "source": [
        "The both code are if condition code, the first means, if x>0 then print 1,2 and print 3. So if want to print 3, x should less than 0. The same as the second one, if x>0, then print 1 and also print 2 and 3. So if want to print 2 and 3, x should <0."
      ],
      "metadata": {
        "id": "g6_RSfgMk276"
      }
    },
    {
      "cell_type": "markdown",
      "metadata": {
        "id": "gpcH2pMO6RR-"
      },
      "source": [
        "**Exercise 6**\n",
        "\n",
        "Using the code cell below as a start, print `\"Good afternoon\"` if the\n",
        "`current_time` is past noon.\n",
        "\n",
        "Otherwise, do nothing.\n",
        "\n",
        "(Hint: Write some conditional based on `current_time.hour`.)"
      ]
    },
    {
      "cell_type": "code",
      "execution_count": 26,
      "metadata": {
        "hide-output": false,
        "id": "V36EYLec6RR-"
      },
      "outputs": [],
      "source": [
        "\n",
        "import datetime\n",
        "current_time = datetime.datetime.now()\n",
        "\n",
        "## your code here\n",
        "if current_time.hour>12:\n",
        "  print(\"Good afternoon\")\n"
      ]
    },
    {
      "cell_type": "markdown",
      "metadata": {
        "id": "_pgtr-mB6RR-"
      },
      "source": [
        "**Exercise 7**\n",
        "\n",
        "You will generate a random number between 0 and 1, add code to  print \"x > 0.5\" or \"x <= 0.5\" depending on the value of the number.\n",
        "\n",
        "This also introduces a new package `numpy.random` for drawing random numbers."
      ]
    },
    {
      "cell_type": "code",
      "execution_count": 27,
      "metadata": {
        "hide-output": false,
        "id": "eVN_qGEb6RR_",
        "colab": {
          "base_uri": "https://localhost:8080/"
        },
        "outputId": "3873f33a-550e-4381-b2af-ba31e01cca6a"
      },
      "outputs": [
        {
          "output_type": "stream",
          "name": "stdout",
          "text": [
            "x = 0.1254059680143922\n",
            "x<=0.5\n"
          ]
        }
      ],
      "source": [
        "import numpy as np\n",
        "x = np.random.random()\n",
        "print(f\"x = {x}\")\n",
        "\n",
        "## your code here\n",
        "if x>5:\n",
        "  print(\"x>0.5\")\n",
        "else:\n",
        "  print(\"x<=0.5\")"
      ]
    },
    {
      "cell_type": "markdown",
      "metadata": {
        "id": "yjmPt5bv6RR_"
      },
      "source": [
        "**Exercise 8**\n",
        "\n",
        "Write a for loop that uses the lists of cities\n",
        "and states below to print the same \"{city} is in {state}\" using\n",
        "`zip`."
      ]
    },
    {
      "cell_type": "code",
      "execution_count": 13,
      "metadata": {
        "hide-output": true,
        "id": "SgIZYmgo6RR_",
        "colab": {
          "base_uri": "https://localhost:8080/"
        },
        "outputId": "4b00b4fa-0fe2-459e-8b17-662072d1d4c2"
      },
      "outputs": [
        {
          "output_type": "stream",
          "name": "stdout",
          "text": [
            "Phoenix is in Arizona\n",
            "Austin is in Texas\n",
            "San Diego is in California\n",
            "New York is in New York\n"
          ]
        }
      ],
      "source": [
        "cities = [\"Phoenix\", \"Austin\", \"San Diego\", \"New York\"]\n",
        "states = [\"Arizona\", \"Texas\", \"California\", \"New York\"]\n",
        "\n",
        "for i, j in zip(cities,states):\n",
        "    print(f\"{i} is in {j}\")\n",
        "# Your code here\n"
      ]
    },
    {
      "cell_type": "markdown",
      "metadata": {
        "id": "4NwsGgRD6RR_"
      },
      "source": [
        "**Exercise 9**\n",
        "\n",
        "Try to find the index of the first value in `x`\n",
        "that is greater than 0.999 using a for loop and `break`.\n",
        "\n",
        "*Hint*: try iterating over `range(len(x))`."
      ]
    },
    {
      "cell_type": "code",
      "execution_count": 16,
      "metadata": {
        "hide-output": false,
        "id": "hCRyFj9t6RR_",
        "colab": {
          "base_uri": "https://localhost:8080/"
        },
        "outputId": "e8152c3f-6bb7-4d86-fc52-6d31082a126f"
      },
      "outputs": [
        {
          "output_type": "stream",
          "name": "stdout",
          "text": [
            "779\n"
          ]
        }
      ],
      "source": [
        "x = np.random.rand(10000)\n",
        "# Your code here\n",
        "len(x)\n",
        "for i in range(len(x)):\n",
        "  if x[i]>0.999:\n",
        "    print(i)\n",
        "    break"
      ]
    },
    {
      "cell_type": "markdown",
      "metadata": {
        "id": "DDjOY_576RSA"
      },
      "source": [
        "**Exercise 10**\n",
        "\n",
        "Write a for loop that adds up all values in `x` that are greater than\n",
        "or equal to 0.5.\n",
        "\n",
        "Use the `continue` word to end the body of the loop early for all values\n",
        "of `x` that are less than 0.5.\n",
        "\n",
        "*Hint*: Try starting your loop with `for value in x:` instead of\n",
        "iterating over the indices of `x`."
      ]
    },
    {
      "cell_type": "code",
      "execution_count": 46,
      "metadata": {
        "hide-output": false,
        "id": "3kmxk4AP6RSA",
        "colab": {
          "base_uri": "https://localhost:8080/"
        },
        "outputId": "1c0fa402-1e65-4819-a105-ee94774d5dc8"
      },
      "outputs": [
        {
          "output_type": "stream",
          "name": "stdout",
          "text": [
            "3758.9144265532495\n"
          ]
        }
      ],
      "source": [
        "x = np.random.rand(10000)\n",
        "# Your code here\n",
        "total=0\n",
        "\n",
        "for i in x:\n",
        "  if i<0.5:\n",
        "#    print(i)\n",
        "    continue\n",
        "  total=total+i\n",
        "  \n",
        "print(total)\n"
      ]
    },
    {
      "cell_type": "markdown",
      "metadata": {
        "id": "99kTMP0c6RSA"
      },
      "source": [
        "# Part B: Applications\n"
      ]
    },
    {
      "cell_type": "markdown",
      "metadata": {
        "id": "eRTXhu436RSA"
      },
      "source": [
        "**Exercise 1**\n",
        "\n",
        "In economics, when an individual has some knowledge, skills, or education\n",
        "which provides them with a source of future income, we call it [human\n",
        "capital](https://en.wikipedia.org/wiki/Human_capital).\n",
        "\n",
        "When a student graduating from high school is considering whether to\n",
        "continue with post-secondary education, they may consider that it gives\n",
        "them higher paying jobs in the future, but requires that they don't begin\n",
        "working until after graduation.\n",
        "\n",
        "Consider the simplified example where a student has perfectly forecastable\n",
        "employment and is given two choices:\n",
        "\n",
        "1. Begin working immediately and make 60,000 a year until they retire 40\n",
        "years later.\n",
        "2. Pay 20,000 a year for the next 4 years to attend university, then\n",
        "get a job paying 200,000 a year until they retire in 40 years after making\n",
        "the college attendance decision.\n",
        "\n",
        "Assume wages and tuitions are paid at the beginning of each year.\n",
        "\n",
        "What is the expected rate of return of this investment?\n",
        "\n",
        "To do this first start by constructing the npv of the college decision using the NPV of high school as inspiration. Do this for a given interest rate, say 5%.\n",
        "\n",
        "Then build a expression that returns the difference in NPVs.\n",
        "\n",
        "Finally, change the interest rate manually until this difference in the NPVs is the less than 1000 dollars."
      ]
    },
    {
      "cell_type": "code",
      "execution_count": 42,
      "metadata": {
        "id": "NOrdM9jM6RSA",
        "colab": {
          "base_uri": "https://localhost:8080/"
        },
        "outputId": "47e646d6-d393-4499-d720-e5b7811894a7"
      },
      "outputs": [
        {
          "output_type": "stream",
          "name": "stdout",
          "text": [
            "447982.62709888484\n",
            "448799.0988075898\n",
            "816.4717087049503\n"
          ]
        }
      ],
      "source": [
        "# Discount rate\n",
        "r = 0.2173\n",
        "\n",
        "# High school wage\n",
        "w_hs = 80000\n",
        "\n",
        "# College wage and cost of college\n",
        "c_college = 20000 \n",
        "w_college = 200000\n",
        "\n",
        "# Compute npv of being a hs worker\n",
        "npv_hs=0\n",
        "for t in range(0,40):\n",
        "    npv_hs=npv_hs+w_hs/(1+r)**t\n",
        "print(npv_hs)\n",
        "# Compute npv of attending college\n",
        "npv_c=0\n",
        "for t in range(0,4):\n",
        "    npv_c=npv_c-c_college/(1+r)**t\n",
        "\n",
        "for t in range(4,40):\n",
        "    npv_c=npv_c+w_college/(1+r)**t\n",
        "print(npv_c)\n",
        "print(npv_c-npv_hs)\n",
        "# Compute npv of being a college worker\n",
        "\n",
        "# Is npv_collegeworker - npv_collegecost > npv_hsworker"
      ]
    },
    {
      "cell_type": "markdown",
      "source": [
        "When r=0.2173 the difference in the npvs is less than 1000"
      ],
      "metadata": {
        "id": "CKfeLGRxDulh"
      }
    },
    {
      "cell_type": "markdown",
      "metadata": {
        "id": "NqsXKBqD6RSB"
      },
      "source": [
        "**Exercise 2**\n",
        "\n",
        "Companies often invest in training their employees to raise their\n",
        "productivity. Economists sometimes wonder why companies\n",
        "spend this money when this incentivizes other companies to hire\n",
        "their employees away with higher salaries since employees gain human capital from training.\n",
        "\n",
        "Let's say that it costs a company 25,000 dollars to teach their\n",
        "employees Python, but it raises their output by 2,500 per month. How\n",
        "many months would an employee need to stay for the company to find it\n",
        "profitable to pay for their employees to learn Python if their **monthly** discount\n",
        "rate is r = 0.01?"
      ]
    },
    {
      "cell_type": "code",
      "execution_count": 45,
      "metadata": {
        "hide-output": false,
        "id": "XASXvdzC6RSB",
        "colab": {
          "base_uri": "https://localhost:8080/"
        },
        "outputId": "2da76cc4-3441-41c4-d4bb-2b2fb1776ae6"
      },
      "outputs": [
        {
          "output_type": "stream",
          "name": "stdout",
          "text": [
            "919.0706205486858\n",
            "11\n"
          ]
        }
      ],
      "source": [
        "# Define cost of teaching python\n",
        "cost = 25_000\n",
        "r = 0.01\n",
        "\n",
        "# Per month value\n",
        "added_value = 2500\n",
        "\n",
        "n_months = 0\n",
        "total_npv = 0.0\n",
        "\n",
        "# Put condition below here\n",
        "while total_npv<cost: # (replace False with your condition here)\n",
        "    n_months = n_months + 1  # Increment how many months they've worked\n",
        "    # Increase total_npv\n",
        "    total_npv=total_npv+added_value/(1+r)**n_months\n",
        "print(total_npv-cost)\n",
        "print(n_months)"
      ]
    }
  ],
  "metadata": {
    "colab": {
      "collapsed_sections": [],
      "provenance": []
    },
    "kernelspec": {
      "display_name": "Python 3 (ipykernel)",
      "language": "python",
      "name": "python3"
    },
    "language_info": {
      "codemirror_mode": {
        "name": "ipython",
        "version": 3
      },
      "file_extension": ".py",
      "mimetype": "text/x-python",
      "name": "python",
      "nbconvert_exporter": "python",
      "pygments_lexer": "ipython3",
      "version": "3.9.12"
    },
    "toc": {
      "base_numbering": 1,
      "nav_menu": {},
      "number_sections": true,
      "sideBar": true,
      "skip_h1_title": false,
      "title_cell": "Table of Contents",
      "title_sidebar": "Contents",
      "toc_cell": false,
      "toc_position": {},
      "toc_section_display": true,
      "toc_window_display": true
    },
    "toc-autonumbering": true
  },
  "nbformat": 4,
  "nbformat_minor": 0
}